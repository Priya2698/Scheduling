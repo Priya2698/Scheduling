{
 "cells": [
  {
   "cell_type": "code",
   "execution_count": 42,
   "metadata": {},
   "outputs": [],
   "source": [
    "from datetime import datetime\n",
    "import time\n",
    "import csv"
   ]
  },
  {
   "cell_type": "code",
   "execution_count": 45,
   "metadata": {},
   "outputs": [],
   "source": [
    "# datafile = \"data1\"\n",
    "# csvfile = \"plot_data1.csv\"\n",
    "datafile = \"data2\"\n",
    "csvfile = \"plot_data2.csv\""
   ]
  },
  {
   "cell_type": "code",
   "execution_count": 46,
   "metadata": {},
   "outputs": [],
   "source": [
    "with open(datafile) as file:\n",
    "    fp = file.read()\n",
    "    contents = fp.strip().split(\"\\n\")\n",
    "    with open(csvfile, mode=\"w\",newline='') as data:\n",
    "        csvwriter = csv.writer(data)\n",
    "        csvwriter.writerow(['Configuration','Runtime(in secs)','Time Interval(secs)'])\n",
    "        flag=0\n",
    "        base=0\n",
    "        stamp=0\n",
    "        for line in contents:\n",
    "            st = line.strip().split(\" \")\n",
    "            timestamp = st[0]+\" \"+st[1]\n",
    "            d = datetime.strptime(timestamp, \"%Y-%m-%d %H:%M:%S\")\n",
    "            if(flag == 0):\n",
    "                base = int(time.mktime(d.timetuple()))\n",
    "                flag+=1\n",
    "            else:\n",
    "                stamp = int(time.mktime(d.timetuple())) - base\n",
    "            csvwriter.writerow([st[2], st[3], stamp])"
   ]
  },
  {
   "cell_type": "code",
   "execution_count": null,
   "metadata": {},
   "outputs": [],
   "source": []
  }
 ],
 "metadata": {
  "kernelspec": {
   "display_name": "Python 3",
   "language": "python",
   "name": "python3"
  },
  "language_info": {
   "codemirror_mode": {
    "name": "ipython",
    "version": 3
   },
   "file_extension": ".py",
   "mimetype": "text/x-python",
   "name": "python",
   "nbconvert_exporter": "python",
   "pygments_lexer": "ipython3",
   "version": "3.7.3"
  }
 },
 "nbformat": 4,
 "nbformat_minor": 2
}
